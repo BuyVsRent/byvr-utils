{
 "cells": [
  {
   "cell_type": "code",
   "execution_count": 6,
   "metadata": {},
   "outputs": [],
   "source": [
    "import cv2\n",
    "from PIL import Image\n",
    "import matplotlib.pyplot as plt\n",
    "#read image\n",
    "\n",
    "def resize_and_save_image(input_path, output_path, new_width, new_height):\n",
    "    # Read the image\n",
    "    img = cv2.imread(input_path)\n",
    "\n",
    "    # Resize the image\n",
    "    resized_img = cv2.resize(img, (new_width, new_height))\n",
    "\n",
    "    # Save the resized image\n",
    "    cv2.imwrite(output_path, resized_img)"
   ]
  },
  {
   "cell_type": "code",
   "execution_count": 10,
   "metadata": {},
   "outputs": [],
   "source": [
    "input_image_path = \"./images/img3.png\"\n",
    "output_image_path = \"./images/img3_resize.png\"\n",
    "new_width = 1280\n",
    "new_height = 800\n",
    "resize_and_save_image(input_image_path, output_image_path, new_width, new_height)"
   ]
  },
  {
   "cell_type": "code",
   "execution_count": null,
   "metadata": {},
   "outputs": [],
   "source": []
  }
 ],
 "metadata": {
  "kernelspec": {
   "display_name": "venv",
   "language": "python",
   "name": "python3"
  },
  "language_info": {
   "codemirror_mode": {
    "name": "ipython",
    "version": 3
   },
   "file_extension": ".py",
   "mimetype": "text/x-python",
   "name": "python",
   "nbconvert_exporter": "python",
   "pygments_lexer": "ipython3",
   "version": "3.8.10"
  },
  "orig_nbformat": 4
 },
 "nbformat": 4,
 "nbformat_minor": 2
}
